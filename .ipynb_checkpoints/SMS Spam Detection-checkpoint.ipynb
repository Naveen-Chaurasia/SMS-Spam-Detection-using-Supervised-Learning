{
 "cells": [
  {
   "cell_type": "code",
   "execution_count": 16,
   "id": "quality-welcome",
   "metadata": {},
   "outputs": [
    {
     "name": "stdout",
     "output_type": "stream",
     "text": [
      "(5572, 5)\n"
     ]
    },
    {
     "data": {
      "text/html": [
       "<div>\n",
       "<style scoped>\n",
       "    .dataframe tbody tr th:only-of-type {\n",
       "        vertical-align: middle;\n",
       "    }\n",
       "\n",
       "    .dataframe tbody tr th {\n",
       "        vertical-align: top;\n",
       "    }\n",
       "\n",
       "    .dataframe thead th {\n",
       "        text-align: right;\n",
       "    }\n",
       "</style>\n",
       "<table border=\"1\" class=\"dataframe\">\n",
       "  <thead>\n",
       "    <tr style=\"text-align: right;\">\n",
       "      <th></th>\n",
       "      <th>v1</th>\n",
       "      <th>v2</th>\n",
       "      <th>Unnamed: 2</th>\n",
       "      <th>Unnamed: 3</th>\n",
       "      <th>Unnamed: 4</th>\n",
       "    </tr>\n",
       "  </thead>\n",
       "  <tbody>\n",
       "    <tr>\n",
       "      <th>0</th>\n",
       "      <td>ham</td>\n",
       "      <td>Go until jurong point, crazy.. Available only ...</td>\n",
       "      <td>NaN</td>\n",
       "      <td>NaN</td>\n",
       "      <td>NaN</td>\n",
       "    </tr>\n",
       "    <tr>\n",
       "      <th>1</th>\n",
       "      <td>ham</td>\n",
       "      <td>Ok lar... Joking wif u oni...</td>\n",
       "      <td>NaN</td>\n",
       "      <td>NaN</td>\n",
       "      <td>NaN</td>\n",
       "    </tr>\n",
       "    <tr>\n",
       "      <th>2</th>\n",
       "      <td>spam</td>\n",
       "      <td>Free entry in 2 a wkly comp to win FA Cup fina...</td>\n",
       "      <td>NaN</td>\n",
       "      <td>NaN</td>\n",
       "      <td>NaN</td>\n",
       "    </tr>\n",
       "    <tr>\n",
       "      <th>3</th>\n",
       "      <td>ham</td>\n",
       "      <td>U dun say so early hor... U c already then say...</td>\n",
       "      <td>NaN</td>\n",
       "      <td>NaN</td>\n",
       "      <td>NaN</td>\n",
       "    </tr>\n",
       "    <tr>\n",
       "      <th>4</th>\n",
       "      <td>ham</td>\n",
       "      <td>Nah I don't think he goes to usf, he lives aro...</td>\n",
       "      <td>NaN</td>\n",
       "      <td>NaN</td>\n",
       "      <td>NaN</td>\n",
       "    </tr>\n",
       "    <tr>\n",
       "      <th>5</th>\n",
       "      <td>spam</td>\n",
       "      <td>FreeMsg Hey there darling it's been 3 week's n...</td>\n",
       "      <td>NaN</td>\n",
       "      <td>NaN</td>\n",
       "      <td>NaN</td>\n",
       "    </tr>\n",
       "    <tr>\n",
       "      <th>6</th>\n",
       "      <td>ham</td>\n",
       "      <td>Even my brother is not like to speak with me. ...</td>\n",
       "      <td>NaN</td>\n",
       "      <td>NaN</td>\n",
       "      <td>NaN</td>\n",
       "    </tr>\n",
       "    <tr>\n",
       "      <th>7</th>\n",
       "      <td>ham</td>\n",
       "      <td>As per your request 'Melle Melle (Oru Minnamin...</td>\n",
       "      <td>NaN</td>\n",
       "      <td>NaN</td>\n",
       "      <td>NaN</td>\n",
       "    </tr>\n",
       "    <tr>\n",
       "      <th>8</th>\n",
       "      <td>spam</td>\n",
       "      <td>WINNER!! As a valued network customer you have...</td>\n",
       "      <td>NaN</td>\n",
       "      <td>NaN</td>\n",
       "      <td>NaN</td>\n",
       "    </tr>\n",
       "    <tr>\n",
       "      <th>9</th>\n",
       "      <td>spam</td>\n",
       "      <td>Had your mobile 11 months or more? U R entitle...</td>\n",
       "      <td>NaN</td>\n",
       "      <td>NaN</td>\n",
       "      <td>NaN</td>\n",
       "    </tr>\n",
       "  </tbody>\n",
       "</table>\n",
       "</div>"
      ],
      "text/plain": [
       "     v1                                                 v2 Unnamed: 2  \\\n",
       "0   ham  Go until jurong point, crazy.. Available only ...        NaN   \n",
       "1   ham                      Ok lar... Joking wif u oni...        NaN   \n",
       "2  spam  Free entry in 2 a wkly comp to win FA Cup fina...        NaN   \n",
       "3   ham  U dun say so early hor... U c already then say...        NaN   \n",
       "4   ham  Nah I don't think he goes to usf, he lives aro...        NaN   \n",
       "5  spam  FreeMsg Hey there darling it's been 3 week's n...        NaN   \n",
       "6   ham  Even my brother is not like to speak with me. ...        NaN   \n",
       "7   ham  As per your request 'Melle Melle (Oru Minnamin...        NaN   \n",
       "8  spam  WINNER!! As a valued network customer you have...        NaN   \n",
       "9  spam  Had your mobile 11 months or more? U R entitle...        NaN   \n",
       "\n",
       "  Unnamed: 3 Unnamed: 4  \n",
       "0        NaN        NaN  \n",
       "1        NaN        NaN  \n",
       "2        NaN        NaN  \n",
       "3        NaN        NaN  \n",
       "4        NaN        NaN  \n",
       "5        NaN        NaN  \n",
       "6        NaN        NaN  \n",
       "7        NaN        NaN  \n",
       "8        NaN        NaN  \n",
       "9        NaN        NaN  "
      ]
     },
     "execution_count": 16,
     "metadata": {},
     "output_type": "execute_result"
    }
   ],
   "source": [
    "import pandas as pd\n",
    "import numpy as np\n",
    "import matplotlib.pyplot as plt\n",
    "%matplotlib inline\n",
    "\n",
    "sms=pd.read_csv('spam.csv',sep=',',encoding='Latin-1')\n",
    "\n",
    "sms=pd.read_csv('spam.csv',sep=',',encoding='Latin-1')\n",
    "print(sms.shape)\n",
    "sms.head(10)\n",
    "                                                                                                                                                                                                                                                                        \n"
   ]
  },
  {
   "cell_type": "code",
   "execution_count": 11,
   "id": "capital-deputy",
   "metadata": {},
   "outputs": [],
   "source": []
  },
  {
   "cell_type": "code",
   "execution_count": 21,
   "id": "outdoor-seattle",
   "metadata": {},
   "outputs": [
    {
     "name": "stdout",
     "output_type": "stream",
     "text": [
      "(5572, 2)\n"
     ]
    },
    {
     "data": {
      "text/html": [
       "<div>\n",
       "<style scoped>\n",
       "    .dataframe tbody tr th:only-of-type {\n",
       "        vertical-align: middle;\n",
       "    }\n",
       "\n",
       "    .dataframe tbody tr th {\n",
       "        vertical-align: top;\n",
       "    }\n",
       "\n",
       "    .dataframe thead th {\n",
       "        text-align: right;\n",
       "    }\n",
       "</style>\n",
       "<table border=\"1\" class=\"dataframe\">\n",
       "  <thead>\n",
       "    <tr style=\"text-align: right;\">\n",
       "      <th></th>\n",
       "      <th>label</th>\n",
       "      <th>texts</th>\n",
       "    </tr>\n",
       "  </thead>\n",
       "  <tbody>\n",
       "    <tr>\n",
       "      <th>0</th>\n",
       "      <td>ham</td>\n",
       "      <td>Go until jurong point, crazy.. Available only ...</td>\n",
       "    </tr>\n",
       "    <tr>\n",
       "      <th>1</th>\n",
       "      <td>ham</td>\n",
       "      <td>Ok lar... Joking wif u oni...</td>\n",
       "    </tr>\n",
       "    <tr>\n",
       "      <th>2</th>\n",
       "      <td>spam</td>\n",
       "      <td>Free entry in 2 a wkly comp to win FA Cup fina...</td>\n",
       "    </tr>\n",
       "    <tr>\n",
       "      <th>3</th>\n",
       "      <td>ham</td>\n",
       "      <td>U dun say so early hor... U c already then say...</td>\n",
       "    </tr>\n",
       "    <tr>\n",
       "      <th>4</th>\n",
       "      <td>ham</td>\n",
       "      <td>Nah I don't think he goes to usf, he lives aro...</td>\n",
       "    </tr>\n",
       "  </tbody>\n",
       "</table>\n",
       "</div>"
      ],
      "text/plain": [
       "  label                                              texts\n",
       "0   ham  Go until jurong point, crazy.. Available only ...\n",
       "1   ham                      Ok lar... Joking wif u oni...\n",
       "2  spam  Free entry in 2 a wkly comp to win FA Cup fina...\n",
       "3   ham  U dun say so early hor... U c already then say...\n",
       "4   ham  Nah I don't think he goes to usf, he lives aro..."
      ]
     },
     "execution_count": 21,
     "metadata": {},
     "output_type": "execute_result"
    }
   ],
   "source": [
    "sms=sms.drop(['Unnamed: 2','Unnamed: 3','Unnamed: 4'],axis=1)\n",
    "sms.columns=['label','texts']\n",
    "print(sms.shape)\n",
    "sms.head()\n",
    "\n",
    "\n"
   ]
  },
  {
   "cell_type": "code",
   "execution_count": 38,
   "id": "concerned-floor",
   "metadata": {},
   "outputs": [
    {
     "data": {
      "image/png": "[encoded data removed]",
      "text/plain": [
       "<Figure size 432x288 with 1 Axes>"
      ]
     },
     "metadata": {
      "needs_background": "light"
     },
     "output_type": "display_data"
    }
   ],
   "source": [
    "fig=plt.figure()\n",
    "ax=fig.add_subplot(111)\n",
    "sms['label'].value_counts().plot(kind='bar',color='blue',alpha=0.9,grid=True)\n",
    "for p in ax.patches:\n",
    "    ax.annotate(np.round(p.get_height(),decimals=2), (p.get_x()+p.get_width()/2., p.get_height()), ha='center', va='center')"
   ]
  },
  {
   "cell_type": "code",
   "execution_count": 25,
   "id": "musical-saskatchewan",
   "metadata": {},
   "outputs": [
    {
     "name": "stdout",
     "output_type": "stream",
     "text": [
      "(5572, 4)\n"
     ]
    },
    {
     "data": {
      "text/html": [
       "<div>\n",
       "<style scoped>\n",
       "    .dataframe tbody tr th:only-of-type {\n",
       "        vertical-align: middle;\n",
       "    }\n",
       "\n",
       "    .dataframe tbody tr th {\n",
       "        vertical-align: top;\n",
       "    }\n",
       "\n",
       "    .dataframe thead th {\n",
       "        text-align: right;\n",
       "    }\n",
       "</style>\n",
       "<table border=\"1\" class=\"dataframe\">\n",
       "  <thead>\n",
       "    <tr style=\"text-align: right;\">\n",
       "      <th></th>\n",
       "      <th>label</th>\n",
       "      <th>texts</th>\n",
       "      <th>word_count</th>\n",
       "      <th>char_count</th>\n",
       "    </tr>\n",
       "  </thead>\n",
       "  <tbody>\n",
       "    <tr>\n",
       "      <th>0</th>\n",
       "      <td>ham</td>\n",
       "      <td>go until jurong point crazy available only in ...</td>\n",
       "      <td>20</td>\n",
       "      <td>102</td>\n",
       "    </tr>\n",
       "    <tr>\n",
       "      <th>1</th>\n",
       "      <td>ham</td>\n",
       "      <td>ok lar joking wif u oni</td>\n",
       "      <td>6</td>\n",
       "      <td>23</td>\n",
       "    </tr>\n",
       "    <tr>\n",
       "      <th>2</th>\n",
       "      <td>spam</td>\n",
       "      <td>free entry in 2 a wkly comp to win fa cup fina...</td>\n",
       "      <td>28</td>\n",
       "      <td>149</td>\n",
       "    </tr>\n",
       "    <tr>\n",
       "      <th>3</th>\n",
       "      <td>ham</td>\n",
       "      <td>u dun say so early hor u c already then say</td>\n",
       "      <td>11</td>\n",
       "      <td>43</td>\n",
       "    </tr>\n",
       "    <tr>\n",
       "      <th>4</th>\n",
       "      <td>ham</td>\n",
       "      <td>nah i dont think he goes to usf he lives aroun...</td>\n",
       "      <td>13</td>\n",
       "      <td>59</td>\n",
       "    </tr>\n",
       "  </tbody>\n",
       "</table>\n",
       "</div>"
      ],
      "text/plain": [
       "  label                                              texts  word_count  \\\n",
       "0   ham  go until jurong point crazy available only in ...          20   \n",
       "1   ham                            ok lar joking wif u oni           6   \n",
       "2  spam  free entry in 2 a wkly comp to win fa cup fina...          28   \n",
       "3   ham        u dun say so early hor u c already then say          11   \n",
       "4   ham  nah i dont think he goes to usf he lives aroun...          13   \n",
       "\n",
       "   char_count  \n",
       "0         102  \n",
       "1          23  \n",
       "2         149  \n",
       "3          43  \n",
       "4          59  "
      ]
     },
     "execution_count": 25,
     "metadata": {},
     "output_type": "execute_result"
    }
   ],
   "source": [
    "from string import punctuation\n",
    "def preprocess1 (str):\n",
    "    \"\"\" str --> str\n",
    "    lower case and strip punctuations of a string\n",
    "    \"\"\"\n",
    "    for p in list(punctuation):\n",
    "        str = str.lower().replace(p, '')\n",
    "    return str\n",
    "sms['texts'] = sms.texts.apply(preprocess1)\n",
    "\n",
    "#creating word count feature as \"word_count\"\n",
    "def word_count (str):\n",
    "    \"\"\"str --> int\n",
    "    return the number of words appeared in a string\n",
    "    \"\"\"\n",
    "    return len(str.split())\n",
    "sms['word_count'] = sms.texts.apply(word_count)\n",
    "\n",
    "#creating character count feature as \"char_count\"\n",
    "def char_count (str):\n",
    "    \"\"\" str --> int\n",
    "    return the number of character count of a string\n",
    "    \"\"\"\n",
    "    return len(list(str))\n",
    "sms['char_count'] = sms.texts.apply(char_count)\n",
    "\n",
    "#vew new data set\n",
    "print(sms.shape)\n",
    "sms.head()"
   ]
  },
  {
   "cell_type": "code",
   "execution_count": 40,
   "id": "ordered-aberdeen",
   "metadata": {},
   "outputs": [
    {
     "data": {
      "image/png": "[encoded data removed]",
      "text/plain": [
       "<Figure size 432x288 with 1 Axes>"
      ]
     },
     "metadata": {
      "needs_background": "light"
     },
     "output_type": "display_data"
    }
   ],
   "source": [
    "#visualize ham vs spam counts\n",
    "fig = plt.figure()\n",
    "ax = fig.add_subplot(111)\n",
    "sms['label'].value_counts().plot(kind='bar', color = 'red', alpha=0.9, grid=True)\n",
    "plt.ylabel('counts')\n",
    "plt.title('ham vs spam counts')\n",
    "plt.xticks(rotation='horizontal')\n",
    "ax.xaxis.grid(which=\"major\")\n",
    "ax.spines['top'].set_visible(False)\n",
    "ax.spines['right'].set_visible(False)\n",
    "for p in ax.patches:\n",
    "    ax.annotate(np.round(p.get_height(),decimals=2), (p.get_x()+p.get_width()/2., p.get_height()), ha='center', va='center')"
   ]
  },
  {
   "cell_type": "code",
   "execution_count": 47,
   "id": "appreciated-soviet",
   "metadata": {},
   "outputs": [
    {
     "data": {
      "image/png": "[encoded data removed]",
      "text/plain": [
       "<Figure size 432x576 with 2 Axes>"
      ]
     },
     "metadata": {
      "needs_background": "light"
     },
     "output_type": "display_data"
    }
   ],
   "source": [
    "fig = plt.figure(figsize=(6,8))\n",
    "ax1 = fig.add_subplot(2, 1, 1)\n",
    "ax1.hist(sms['word_count'],  bins=60, color='#1f77b4', alpha=0.9)\n",
    "plt.xlim(0,65)\n",
    "plt.xlabel('Word Count')\n",
    "plt.ylabel('Probability')\n",
    "plt.title('Word Count: Total')\n",
    "ax1.spines['top'].set_visible(False)\n",
    "ax1.spines['right'].set_visible(False)\n",
    "\n",
    "ax2 = fig.add_subplot(2, 1, 2)\n",
    "bins = np.histogram(np.hstack((sms.loc[sms.label=='ham']['word_count'], sms.loc[sms.label=='spam']['word_count'])), bins=70)[1]\n",
    "plt.hist(sms.loc[sms.label=='ham']['word_count'], bins, color='#17becf', alpha=0.9, label='ham')\n",
    "plt.hist(sms.loc[sms.label=='spam']['word_count'], bins,  color='#ff7f0e', alpha=0.9, label='spam')\n",
    "plt.legend(loc='upper right')\n",
    "plt.xlim(0, 60)\n",
    "plt.xlabel('Word Count: ham vs spam')\n",
    "plt.ylabel('Probability')\n",
    "plt.title('Word Count: Ham vs Spam')\n",
    "\n",
    "ax2.spines['top'].set_visible(False)\n",
    "ax2.spines['right'].set_visible(False)\n",
    "plt.subplots_adjust(hspace=0.5)"
   ]
  },
  {
   "cell_type": "code",
   "execution_count": 49,
   "id": "coordinate-international",
   "metadata": {},
   "outputs": [
    {
     "name": "stdout",
     "output_type": "stream",
     "text": [
      "Shapiro-Wilk test results for ham sample: ShapiroResult(statistic=0.7642550468444824, pvalue=0.0)\n",
      "Shapiro-Wilk test results for spam sample ShapiroResult(statistic=0.9082188010215759, pvalue=8.483587788357293e-21)\n"
     ]
    }
   ],
   "source": [
    "ham_word_count = sms.loc[sms.label=='ham']['word_count']\n",
    "spam_word_count = sms.loc[sms.label=='spam']['word_count']\n",
    "from scipy import stats\n",
    "print (\"Shapiro-Wilk test results for ham sample:\", stats.shapiro(ham_word_count))\n",
    "print (\"Shapiro-Wilk test results for spam sample\", stats.shapiro(spam_word_count))"
   ]
  },
  {
   "cell_type": "code",
   "execution_count": 50,
   "id": "cellular-reducing",
   "metadata": {},
   "outputs": [
    {
     "name": "stdout",
     "output_type": "stream",
     "text": [
      "mean-ham: 13.992538860103627\n",
      "mean-spam: 23.552878179384205\n"
     ]
    }
   ],
   "source": [
    "print ('mean-ham:', ham_word_count.mean())\n",
    "print ('mean-spam:', spam_word_count.mean())"
   ]
  },
  {
   "cell_type": "code",
   "execution_count": 51,
   "id": "medieval-assist",
   "metadata": {},
   "outputs": [
    {
     "name": "stdout",
     "output_type": "stream",
     "text": [
      "stand-deviation-ham: 11.159106107979188\n",
      "stand-deviation-spam: 5.721492019351167\n"
     ]
    }
   ],
   "source": [
    "print('stand-deviation-ham:', ham_word_count.std())\n",
    "print('stand-deviation-spam:', spam_word_count.std())"
   ]
  },
  {
   "cell_type": "code",
   "execution_count": 52,
   "id": "posted-request",
   "metadata": {},
   "outputs": [
    {
     "name": "stdout",
     "output_type": "stream",
     "text": [
      "effect size - mean difference: -9.560339319280578\n",
      "effect size - Cohan's D: -0.856853153516054\n"
     ]
    }
   ],
   "source": [
    "print('effect size - mean difference:', ham_word_count.mean() - spam_word_count.mean())\n",
    "#Cohan's D\n",
    "SS_ham = sum(np.square(i-ham_word_count.mean()) for i in ham_word_count)\n",
    "SS_spam = sum(np.square(i-ham_word_count.mean()) for i in spam_word_count)\n",
    "pooled_variance = (SS_ham + SS_spam) / (len(ham_word_count) + len(spam_word_count) - 2)\n",
    "cohans_D = (ham_word_count.mean() - spam_word_count.mean()) / np.sqrt(pooled_variance)\n",
    "print(\"effect size - Cohan's D:\", cohans_D)"
   ]
  },
  {
   "cell_type": "code",
   "execution_count": 53,
   "id": "explicit-fellowship",
   "metadata": {},
   "outputs": [
    {
     "data": {
      "text/plain": [
       "BartlettResult(statistic=417.5404831177946, pvalue=8.371299925823707e-93)"
      ]
     },
     "execution_count": 53,
     "metadata": {},
     "output_type": "execute_result"
    }
   ],
   "source": [
    "stats.bartlett(ham_word_count, spam_word_count)"
   ]
  },
  {
   "cell_type": "code",
   "execution_count": 54,
   "id": "cheap-gasoline",
   "metadata": {},
   "outputs": [
    {
     "data": {
      "text/plain": [
       "Ttest_indResult(statistic=-22.95188231518365, pvalue=1.8192750240662993e-111)"
      ]
     },
     "execution_count": 54,
     "metadata": {},
     "output_type": "execute_result"
    }
   ],
   "source": [
    "stats.ttest_ind(ham_word_count, spam_word_count)"
   ]
  },
  {
   "cell_type": "code",
   "execution_count": 56,
   "id": "surgical-boundary",
   "metadata": {},
   "outputs": [
    {
     "data": {
      "image/png": "[encoded data removed]",
      "text/plain": [
       "<Figure size 432x576 with 2 Axes>"
      ]
     },
     "metadata": {
      "needs_background": "light"
     },
     "output_type": "display_data"
    }
   ],
   "source": [
    "#visualize char_count\n",
    "fig = plt.figure(figsize=(6,8))\n",
    "ax1 = fig.add_subplot(2, 1, 1)\n",
    "ax1.hist(sms['char_count'], bins=80,color='#1f77b4', alpha=0.5)\n",
    "plt.xlim(0,300)\n",
    "plt.xlabel('Character Count: Total')\n",
    "plt.ylabel('Probability')\n",
    "plt.title('Character Count')\n",
    "ax1.spines['top'].set_visible(False)\n",
    "ax1.spines['right'].set_visible(False)\n",
    "\n",
    "ax2 = fig.add_subplot(2, 1, 2)\n",
    "bins = np.histogram(np.hstack((sms.loc[sms.label=='ham']['char_count'], sms.loc[sms.label=='spam']['char_count'])), bins=80)[1]\n",
    "plt.hist(sms.loc[sms.label=='ham']['char_count'], bins,  color='#17becf', alpha=0.8, label='ham')\n",
    "plt.hist(sms.loc[sms.label=='spam']['char_count'], bins,  color='#ff7f0e', alpha=0.8, label='spam')\n",
    "plt.legend(loc='upper right')\n",
    "plt.xlim(0, 300)\n",
    "plt.xlabel('Character Count: ham vs spam')\n",
    "plt.ylabel('Probability')\n",
    "plt.title('Character Count: Ham vs Spam')\n",
    "\n",
    "ax2.spines['top'].set_visible(False)\n",
    "ax2.spines['right'].set_visible(False)\n",
    "plt.subplots_adjust(hspace=0.5)"
   ]
  },
  {
   "cell_type": "code",
   "execution_count": null,
   "id": "spread-tokyo",
   "metadata": {},
   "outputs": [],
   "source": []
  }
 ],
 "metadata": {
  "kernelspec": {
   "display_name": "Python 3",
   "language": "python",
   "name": "python3"
  },
  "language_info": {
   "codemirror_mode": {
    "name": "ipython",
    "version": 3
   },
   "file_extension": ".py",
   "mimetype": "text/x-python",
   "name": "python",
   "nbconvert_exporter": "python",
   "pygments_lexer": "ipython3",
   "version": "3.9.0"
  }
 },
 "nbformat": 4,
 "nbformat_minor": 5
}
